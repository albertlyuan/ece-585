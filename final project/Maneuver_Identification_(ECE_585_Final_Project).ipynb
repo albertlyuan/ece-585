{
  "cells": [
    {
      "cell_type": "markdown",
      "metadata": {
        "id": "8qgOkOvlqcZk"
      },
      "source": [
        "# PRESENTATION LINK\n",
        "https://docs.google.com/presentation/d/10J6vTPsUq62TtRZ7oYi57m2hXeUFvvb2dLv9yPxUBLg/edit?usp=sharing"
      ]
    },
    {
      "cell_type": "markdown",
      "metadata": {
        "id": "2DS2gm1q6TOS"
      },
      "source": [
        "Aircraft Maneuver Classification - ECE 585 Final Project\n",
        "\n",
        "# Background\n",
        "\n",
        "USAF Pilot Training Pipeline is currently backloged due to staffing issues. To maintain mission readiness, flight simulators have replaced flight hours. Due to the increase flight simulators, instructors are working longer hours. This is potentially dangerous as the student's and instructor's attitude towards simulators is lax compared to traditional flights. Therefore, having an AI pipeline which can analyze student flying in real time and grade them accordingly is of increased importance. Not only will this serve as a check for instructors, but allows for students to train on the simulators in absence of an instructor.\n",
        "\n",
        "#Introduction\n",
        "\n",
        "## Data\n",
        "\n",
        "The data avilable for this project is TSV files which contain eleven (11) features:\n",
        "\n",
        "*   Index\n",
        "*   Time\n",
        "*   X Position\n",
        "*   Y Position\n",
        "*   Z Position\n",
        "*   X Velocity\n",
        "*   Y Velocity\n",
        "*   Z Velocity\n",
        "*   Heading\n",
        "*   Pitch\n",
        "*   Roll\n",
        "\n",
        "The data provided is a dump of the simulator data. Therefore there is a signifigant amount of artifacts. In addition, most of the data is straight, level, unaccelerated flight (SLUF). This is not interesting for the discussion at hand, as the problem set is for identify, classifing, and grading maneuvers.\n",
        "\n",
        "## Pipeline Theory\n",
        "\n",
        "To implement a solution, we can break the problem down into the following pipeline:\n",
        "\n",
        "1.   Identify maneuvers from data to create a maneuvers dataset\n",
        "2.   Peform classification on the maneuvers dataset.\n",
        "3.   Utilize sorted maneuvers to create a generative model to simulate maneuvers at a variety of skill levels\n",
        "4.   Trian classification model to predict skill level with synthetic maneuvers\n",
        "5.   Execute classification model on sorted maneuvers, thus providing a 'grade'\n",
        "\n",
        "For this project, we will focus on part one (1) of this pipeline, as it directly relates to the material learned in this course.\n",
        "\n",
        "## Maneuver Seperation\n",
        "\n",
        "To seperate the maneuvers from the TSV files, we first need to extract at what points the data moves from artificat to non-artificat or maneuver to SLUF. One method we can implement to solve this problem is Change Point Detection.\n",
        "\n",
        "Change Point Detection (CPD) is a problem set which attempts to identify when a generating distribution changes based off some observable data. More information on CPD can be found [here](https://en.wikipedia.org/wiki/Change_detection).\n",
        "\n",
        "To implement CPD, we must first have a metric to compare our methods against. It is important that we obtain the the entiriety of the maneuver period. In other words, we are willing to have a higher false alarm rate if it means a lower misdetection rate.\n",
        "\n",
        "Still, we do not have a method to actually implement this metric. We need true data to test different models. One way to obtain true data is to generate synthetic data. This is the approach we will take here\n",
        "\n",
        "# Sortie Generation\n",
        "\n",
        "To create a generator, we will take our exemplatory examples and stich them together in random order at random intervals to obtain generated sorties. Some issues with this method is future models could pick up on the same data being utilized, which would cause issues. Further, the frequency of maneuvers may not accurately reflect the frequency of maneuvers in the real data. The authors aknowledge these limitions and will keep them in note during analayis. However, it is unlikey they these issues will be of signifance as the impact to the overaching distribution is small compared to the maneuvers themselves.\n",
        "\n",
        "## Data Generations Steps\n",
        "\n",
        "In order to actually generate the data, certain steps must be taken.\n",
        "\n",
        "1.   Ensure exmplatory data is sufficent\n",
        "2.   Randomly select maneuvers and record selection time\n",
        "3.   Concatanate maneuvers together\n",
        "    *   Change heading to reflet heading of previous maneuvers\n",
        "    *   Change speed to ensure ending speed of previous maneuver matches starting speed of new maneuver\n",
        "    *   Change position ensure continuous positional data.\n",
        "\n",
        "The code below generates the sortie with random maneuvers at random intervals."
      ]
    },
    {
      "cell_type": "code",
      "execution_count": 2,
      "metadata": {
        "id": "HfamxXdoc4xF"
      },
      "outputs": [],
      "source": [
        "from scipy.spatial.transform import Rotation\n",
        "import datetime\n",
        "import numpy as np\n",
        "import pandas as pd\n",
        "import os\n",
        "\n",
        "np.random.seed(99)\n",
        "\n",
        "#Not required, but helps easily check to see if data is synthetic\n",
        "def clean_data(df, round_to=4):\n",
        "  #Convert index to datetime\n",
        "  df['time'] = pd.to_datetime(df['time'], unit=\"s\")\n",
        "  df.drop([\"idx\"], axis=1, inplace=True)\n",
        "  df.set_index('time', inplace=True)\n",
        "\n",
        "  #Impute Data\n",
        "  resampled_data = df.resample('100ms').asfreq()\n",
        "  merged_data = pd.concat([df, resampled_data])\n",
        "  clean_interpolation = round(merged_data.sort_values('time').interpolate(\"linear\"), round_to)\n",
        "  very_clean_data = clean_interpolation.drop(df.index.values).iloc[1:]\n",
        "\n",
        "  #Add back in standard IDX and time\n",
        "  time_in_sec = (very_clean_data.index - datetime.datetime(1970,1,1)).total_seconds()\n",
        "  very_clean_data = very_clean_data.reset_index()\n",
        "  very_clean_data[\"time\"] = time_in_sec - min(time_in_sec)\n",
        "  very_clean_data[\"time\"] = round(very_clean_data[\"time\"],2)\n",
        "  very_clean_data.insert(0, 'idx', very_clean_data.index)\n",
        "\n",
        "  #Zero out position\n",
        "  very_clean_data[\"x\"] = very_clean_data[\"x\"] - very_clean_data[\"x\"].iloc[0]\n",
        "  very_clean_data[\"y\"] = very_clean_data[\"y\"] - very_clean_data[\"y\"].iloc[0]\n",
        "  very_clean_data[\"z\"] = very_clean_data[\"z\"] - very_clean_data[\"z\"].iloc[0]\n",
        "\n",
        "  #Zero out heading\n",
        "  very_clean_data = rotate_maneuver(very_clean_data, very_clean_data[\"heading\"].iloc[0])\n",
        "\n",
        "  return very_clean_data\n",
        "\n",
        "#Rotates maneuver required time step\n",
        "#passed by reference\n",
        "def rotate_maneuver(df, rot_angle):\n",
        "  #Correct heading angle\n",
        "  df[[\"heading\"]] = (df[[\"heading\"]] - rot_angle)%360\n",
        "  # Create a rotation to match the previous heading\n",
        "  r = Rotation.from_euler('z', rot_angle, degrees=True)\n",
        "  new_pos = r.apply(df[[\"x\",\"y\",\"z\"]])\n",
        "  new_vel = r.apply(df[[\"xVel\", \"yVel\", \"zVel\"]])\n",
        "  df[[\"x\",\"y\",\"z\"]] = new_pos\n",
        "  df[[\"xVel\", \"yVel\", \"zVel\"]] = new_vel\n",
        "  return df\n",
        "\n",
        "def concat_maneuvers(man1, man2, time_to_add=2, sampling_frequency=0.1):\n",
        "  #Rotate Maneuver and add position data to match prev end point\n",
        "  rotate_maneuver(man2, -man1[\"heading\"].iloc[-1])\n",
        "\n",
        "  #Create some blank 'carryover' to help bridge the gap between samples\n",
        "  rows_to_add = int(time_to_add*(1/sampling_frequency))\n",
        "  last_idx = int(man1['idx'].iloc[-1])\n",
        "\n",
        "  na_df = pd.DataFrame({'time': [man1['time'].iloc[-1] + (sampling_frequency * i) for i in range(1, rows_to_add + 1)]})\n",
        "  na_df['idx'] = range(last_idx +1, last_idx + rows_to_add + 1)\n",
        "\n",
        "  impute_df =  pd.concat([man1, na_df, man2], ignore_index=True)\n",
        "\n",
        "  #impute velocities and angles\n",
        "  impute_df[[\"xVel\", \"yVel\", \"zVel\", \"pitch\", \"roll\", \"heading\"]] = impute_df[[\"xVel\", \"yVel\", \"zVel\", \"pitch\", \"roll\", \"heading\"]].interpolate(method='polynomial', order=3)\n",
        "\n",
        "  #get rid of M2\n",
        "  impute_df = impute_df.iloc[:last_idx + rows_to_add]\n",
        "\n",
        "  #Iteritvely Update Position\n",
        "\n",
        "  #Locate previous position\n",
        "  last_x = man1[\"x\"].iloc[-1]\n",
        "  last_y = man1[\"y\"].iloc[-1]\n",
        "  last_z = man1[\"z\"].iloc[-1]\n",
        "\n",
        "  for i in range(last_idx+1, last_idx + rows_to_add):\n",
        "    #Calculate new position\n",
        "    new_x_value = impute_df[\"xVel\"].iloc[i] * sampling_frequency + last_x\n",
        "    new_y_value = impute_df[\"yVel\"].iloc[i] * sampling_frequency + last_y\n",
        "    new_z_value = impute_df[\"zVel\"].iloc[i] * sampling_frequency + last_z\n",
        "\n",
        "    #Update in df\n",
        "    impute_df.at[i, \"x\"] = new_x_value\n",
        "    impute_df.at[i, \"y\"] = new_y_value\n",
        "    impute_df.at[i, \"z\"] = new_z_value\n",
        "\n",
        "    #save new pos\n",
        "    last_x = new_x_value\n",
        "    last_y = new_y_value\n",
        "    last_z = new_z_value\n",
        "\n",
        "  #Correct time on M2\n",
        "  man2[[\"time\", \"idx\", \"x\",\"y\",\"z\"]] = man2[[\"time\", \"idx\", \"x\",\"y\",\"z\"]] + impute_df[[\"time\", \"idx\", \"x\",\"y\",\"z\"]].iloc[-1]\n",
        "\n",
        "  return pd.concat([impute_df , man2], ignore_index=True)\n",
        "\n",
        "#Return synthetic sortie and change point segements\n",
        "def generate_sortie (sortie_length_sec, maneuvers, p=None, sampling_rate=0.1):\n",
        "    #if p is float it indiciates probability of SLUF\n",
        "    if type(p) is float:\n",
        "        p_array = ((1-p)/(len(maneuvers)-1)) * np.ones(len(maneuvers))\n",
        "        p_array[0] = p\n",
        "        p = p_array\n",
        "\n",
        "    #Ensures we start at SLUF\n",
        "    synthetic_sortie = maneuvers[0]\n",
        "    maneuver_choices = [0]\n",
        "    generated_length = maneuvers[0][\"time\"].iloc[-1]\n",
        "    change_times = [generated_length]\n",
        "\n",
        "\n",
        "    while generated_length <= sortie_length_sec:\n",
        "        # Randomly selects maneuver to accomplish and logs result\n",
        "        cman_idx = np.random.choice(len(maneuvers), p=p)\n",
        "        norm = np.linalg.norm(synthetic_sortie[[\"xVel\",\"yVel\",\"zVel\"]].iloc[-1] - maneuvers[cman_idx][[\"xVel\",\"yVel\",\"zVel\"]].iloc[0], ord=2)\n",
        "\n",
        "        time_between = int(norm)/10\n",
        "        synthetic_sortie = concat_maneuvers(synthetic_sortie.copy(), maneuvers[cman_idx].copy(), time_to_add=time_between)\n",
        "\n",
        "        #Log choice\n",
        "        generated_length = synthetic_sortie[\"time\"].iloc[-1]\n",
        "\n",
        "        #Transition Phase\n",
        "        if time_between:\n",
        "          maneuver_choices.append(-1)\n",
        "          change_times.append(change_times[-1] + time_between)\n",
        "\n",
        "        #Raw Choice Phase\n",
        "        maneuver_choices.append(cman_idx)\n",
        "        change_times.append(generated_length)\n",
        "    change_times.pop()\n",
        "    return synthetic_sortie, change_times, maneuver_choices"
      ]
    },
    {
      "cell_type": "code",
      "execution_count": 3,
      "metadata": {
        "id": "zLAi3AVvvPHT"
      },
      "outputs": [],
      "source": [
        "#load in required files data\n",
        "sample_maneuvers_fn = os.listdir(\"./samples\")\n",
        "sample_maneuvers_fn.remove(\"SLUF.tsv\")\n",
        "sample_maneuvers_fn.insert(0, \"SLUF.tsv\")\n",
        "\n",
        "col_names = [\"idx\", \"time\", \"x\", \"y\", \"z\", \"xVel\", \"yVel\", \"zVel\", \"pitch\", \"heading\", \"roll\"]\n",
        "maneuvers = [clean_data(pd.read_csv(\"./samples/\" + fn, sep='\\t', skiprows=[0], names=col_names)) for fn in sample_maneuvers_fn]\n",
        "maneuver_names = [fn.split(\"_\")[-1].split(\".\")[0] for fn in sample_maneuvers_fn]"
      ]
    },
    {
      "cell_type": "code",
      "execution_count": 4,
      "metadata": {
        "id": "VgT5yIPgvRel"
      },
      "outputs": [],
      "source": [
        "#example Usage\n",
        "sortie_data, change_points, maneuver_choices = generate_sortie(120, maneuvers, p=0.4)\n",
        "sortie_data.to_csv(f'generated_sample.tsv', sep='\\t', index=False)"
      ]
    },
    {
      "cell_type": "markdown",
      "metadata": {
        "id": "GpPDzWQoAQp7"
      },
      "source": [
        "# Feature Extraction\n",
        "\n",
        "At this point, our data looks structurally simmilar to our observed data, but we have known change points. In order to perform change point detection, we will extract the features that we beleive to be relevant. In this case, the x,y,z positions and x,y,z velocities are not relevant as they are not in reference the the aircraft, rather they are in reference the the global positioning. For example, it makes no difference the x,y,z coordinates that a pilot performs the maneuver. This same logic holds for the x,y,z components. Likewise, the stating heading does not matter either, as a maneuver can be peformed facing any direction.\n",
        "\n",
        "Although these indivial values matter, they certainly contribute to the understanding of the problem. For example, although the individual x,y, and z velocities may not provide much information, certainly the speed of the aircraft is important. Simmilarly, although a maneuver can be peformed facing any direction, that rate of change of heading ($δ$ heading / $δ$ time) is important.\n",
        "\n",
        "We will extract this information to be used in our further analysis."
      ]
    },
    {
      "cell_type": "code",
      "execution_count": 5,
      "metadata": {
        "id": "st8mnR45Byrz"
      },
      "outputs": [],
      "source": [
        "#Calculate Speed\n",
        "def calc_speed(df):\n",
        "  df[\"speed\"] = np.linalg.norm(df[[\"xVel\",\"yVel\",\"zVel\"]], axis=1, ord=2)\n",
        "  return df"
      ]
    },
    {
      "cell_type": "markdown",
      "metadata": {
        "id": "qYqfEyyVChsI"
      },
      "source": [
        "In order to calculcate Heading, we run into an error. The heading data is on the interval [0,360]. However, we need a smooth function to be able to take the deritivive. the following code will transform the data fom [0,360] to a continuous form."
      ]
    },
    {
      "cell_type": "code",
      "execution_count": 6,
      "metadata": {
        "colab": {
          "base_uri": "https://localhost:8080/",
          "height": 445
        },
        "id": "SsGedxyxC1Rv",
        "outputId": "248ce12e-c140-485a-f879-854999d964e0"
      },
      "outputs": [
        {
          "data": {
            "text/plain": [
              "<AxesSubplot: >"
            ]
          },
          "execution_count": 6,
          "metadata": {},
          "output_type": "execute_result"
        },
        {
          "data": {
            "image/png": "[encoded data removed]",
            "text/plain": [
              "<Figure size 640x480 with 1 Axes>"
            ]
          },
          "metadata": {},
          "output_type": "display_data"
        }
      ],
      "source": [
        "maneuvers[2][[\"heading\"]].plot()"
      ]
    },
    {
      "cell_type": "code",
      "execution_count": 7,
      "metadata": {
        "id": "xRTvg9bsC4Ms"
      },
      "outputs": [],
      "source": [
        "def continize_heading(df):\n",
        "  df[\"rev_heading\"] = df[\"heading\"]\n",
        "\n",
        "  for row_idx in range(1,len(df)):\n",
        "    prev = df.iloc[row_idx-1]\n",
        "    curr = df.iloc[row_idx]\n",
        "\n",
        "    #from 10 to 350\n",
        "    if curr[\"heading\"] > 270 and prev[\"heading\"] < 90:\n",
        "      #print(\"Low-High\", row_idx)\n",
        "      df.loc[row_idx:, \"rev_heading\"] = df.loc[row_idx:, \"rev_heading\"] - 360\n",
        "      #from 350 -> 10\n",
        "    elif (prev[\"heading\"]) > 270 and (curr[\"heading\"]) < 90:\n",
        "      #print(\"high-Low\", row_idx)\n",
        "      df.loc[row_idx:, \"rev_heading\"] = df.loc[row_idx:, \"rev_heading\"] + 360\n",
        "\n",
        "  return df"
      ]
    },
    {
      "cell_type": "code",
      "execution_count": 8,
      "metadata": {
        "colab": {
          "base_uri": "https://localhost:8080/",
          "height": 445
        },
        "id": "9-RuEMH-IlcL",
        "outputId": "77e306ad-18b3-422c-d15e-19ddb2c69059"
      },
      "outputs": [
        {
          "data": {
            "text/plain": [
              "<AxesSubplot: >"
            ]
          },
          "execution_count": 8,
          "metadata": {},
          "output_type": "execute_result"
        },
        {
          "data": {
            "image/png": "[encoded data removed]",
            "text/plain": [
              "<Figure size 640x480 with 1 Axes>"
            ]
          },
          "metadata": {},
          "output_type": "display_data"
        }
      ],
      "source": [
        "continize_heading(maneuvers[2].copy())[\"rev_heading\"].plot()"
      ]
    },
    {
      "cell_type": "code",
      "execution_count": 9,
      "metadata": {
        "colab": {
          "base_uri": "https://localhost:8080/",
          "height": 411
        },
        "id": "uBKkQlNTrdf4",
        "outputId": "8ff47210-3b24-4b5e-9db4-91b54b4d550b"
      },
      "outputs": [
        {
          "data": {
            "text/html": [
              "<div>\n",
              "<style scoped>\n",
              "    .dataframe tbody tr th:only-of-type {\n",
              "        vertical-align: middle;\n",
              "    }\n",
              "\n",
              "    .dataframe tbody tr th {\n",
              "        vertical-align: top;\n",
              "    }\n",
              "\n",
              "    .dataframe thead th {\n",
              "        text-align: right;\n",
              "    }\n",
              "</style>\n",
              "<table border=\"1\" class=\"dataframe\">\n",
              "  <thead>\n",
              "    <tr style=\"text-align: right;\">\n",
              "      <th></th>\n",
              "      <th>idx</th>\n",
              "      <th>time</th>\n",
              "      <th>x</th>\n",
              "      <th>y</th>\n",
              "      <th>z</th>\n",
              "      <th>xVel</th>\n",
              "      <th>yVel</th>\n",
              "      <th>zVel</th>\n",
              "      <th>pitch</th>\n",
              "      <th>heading</th>\n",
              "      <th>roll</th>\n",
              "      <th>rev_heading</th>\n",
              "      <th>partial_heading</th>\n",
              "    </tr>\n",
              "  </thead>\n",
              "  <tbody>\n",
              "    <tr>\n",
              "      <th>1</th>\n",
              "      <td>1</td>\n",
              "      <td>0.1</td>\n",
              "      <td>-1.351835</td>\n",
              "      <td>10.918864</td>\n",
              "      <td>0.0770</td>\n",
              "      <td>-15.790714</td>\n",
              "      <td>95.297967</td>\n",
              "      <td>0.1318</td>\n",
              "      <td>-0.6870</td>\n",
              "      <td>0.0082</td>\n",
              "      <td>-0.8999</td>\n",
              "      <td>0.0082</td>\n",
              "      <td>0.082</td>\n",
              "    </tr>\n",
              "    <tr>\n",
              "      <th>2</th>\n",
              "      <td>2</td>\n",
              "      <td>0.2</td>\n",
              "      <td>-3.081032</td>\n",
              "      <td>20.458653</td>\n",
              "      <td>0.1420</td>\n",
              "      <td>-15.789622</td>\n",
              "      <td>95.255494</td>\n",
              "      <td>0.1008</td>\n",
              "      <td>-0.7797</td>\n",
              "      <td>0.0190</td>\n",
              "      <td>-0.9142</td>\n",
              "      <td>0.0190</td>\n",
              "      <td>0.108</td>\n",
              "    </tr>\n",
              "    <tr>\n",
              "      <th>3</th>\n",
              "      <td>3</td>\n",
              "      <td>0.3</td>\n",
              "      <td>-4.812219</td>\n",
              "      <td>30.003029</td>\n",
              "      <td>0.2030</td>\n",
              "      <td>-15.789826</td>\n",
              "      <td>95.212240</td>\n",
              "      <td>0.0691</td>\n",
              "      <td>-0.8830</td>\n",
              "      <td>0.0334</td>\n",
              "      <td>-0.9276</td>\n",
              "      <td>0.0334</td>\n",
              "      <td>0.144</td>\n",
              "    </tr>\n",
              "    <tr>\n",
              "      <th>4</th>\n",
              "      <td>4</td>\n",
              "      <td>0.4</td>\n",
              "      <td>-6.572300</td>\n",
              "      <td>40.744805</td>\n",
              "      <td>0.2690</td>\n",
              "      <td>-15.791282</td>\n",
              "      <td>95.164083</td>\n",
              "      <td>0.0338</td>\n",
              "      <td>-0.9993</td>\n",
              "      <td>0.0512</td>\n",
              "      <td>-0.9415</td>\n",
              "      <td>0.0512</td>\n",
              "      <td>0.178</td>\n",
              "    </tr>\n",
              "    <tr>\n",
              "      <th>5</th>\n",
              "      <td>5</td>\n",
              "      <td>0.5</td>\n",
              "      <td>-8.296911</td>\n",
              "      <td>50.286584</td>\n",
              "      <td>0.3260</td>\n",
              "      <td>-15.793881</td>\n",
              "      <td>95.122080</td>\n",
              "      <td>0.0033</td>\n",
              "      <td>-1.1008</td>\n",
              "      <td>0.0677</td>\n",
              "      <td>-0.9541</td>\n",
              "      <td>0.0677</td>\n",
              "      <td>0.165</td>\n",
              "    </tr>\n",
              "    <tr>\n",
              "      <th>...</th>\n",
              "      <td>...</td>\n",
              "      <td>...</td>\n",
              "      <td>...</td>\n",
              "      <td>...</td>\n",
              "      <td>...</td>\n",
              "      <td>...</td>\n",
              "      <td>...</td>\n",
              "      <td>...</td>\n",
              "      <td>...</td>\n",
              "      <td>...</td>\n",
              "      <td>...</td>\n",
              "      <td>...</td>\n",
              "      <td>...</td>\n",
              "    </tr>\n",
              "    <tr>\n",
              "      <th>345</th>\n",
              "      <td>345</td>\n",
              "      <td>34.5</td>\n",
              "      <td>-1219.962718</td>\n",
              "      <td>216.173136</td>\n",
              "      <td>-34.7680</td>\n",
              "      <td>67.205132</td>\n",
              "      <td>-32.391639</td>\n",
              "      <td>2.1390</td>\n",
              "      <td>-2.1655</td>\n",
              "      <td>110.7816</td>\n",
              "      <td>1.1592</td>\n",
              "      <td>-249.2184</td>\n",
              "      <td>-0.384</td>\n",
              "    </tr>\n",
              "    <tr>\n",
              "      <th>346</th>\n",
              "      <td>346</td>\n",
              "      <td>34.6</td>\n",
              "      <td>-1212.601556</td>\n",
              "      <td>212.722526</td>\n",
              "      <td>-34.5605</td>\n",
              "      <td>67.275844</td>\n",
              "      <td>-32.371213</td>\n",
              "      <td>2.0511</td>\n",
              "      <td>-0.8601</td>\n",
              "      <td>110.7520</td>\n",
              "      <td>1.0351</td>\n",
              "      <td>-249.2480</td>\n",
              "      <td>-0.296</td>\n",
              "    </tr>\n",
              "    <tr>\n",
              "      <th>347</th>\n",
              "      <td>347</td>\n",
              "      <td>34.7</td>\n",
              "      <td>-1205.240393</td>\n",
              "      <td>209.271915</td>\n",
              "      <td>-34.3315</td>\n",
              "      <td>67.346440</td>\n",
              "      <td>-32.369366</td>\n",
              "      <td>1.9425</td>\n",
              "      <td>0.1987</td>\n",
              "      <td>110.7426</td>\n",
              "      <td>0.8558</td>\n",
              "      <td>-249.2574</td>\n",
              "      <td>-0.094</td>\n",
              "    </tr>\n",
              "    <tr>\n",
              "      <th>348</th>\n",
              "      <td>348</td>\n",
              "      <td>34.8</td>\n",
              "      <td>-1197.658368</td>\n",
              "      <td>205.312144</td>\n",
              "      <td>-34.1195</td>\n",
              "      <td>67.410279</td>\n",
              "      <td>-32.383858</td>\n",
              "      <td>1.8100</td>\n",
              "      <td>0.8696</td>\n",
              "      <td>110.7556</td>\n",
              "      <td>0.6542</td>\n",
              "      <td>-249.2444</td>\n",
              "      <td>0.130</td>\n",
              "    </tr>\n",
              "    <tr>\n",
              "      <th>349</th>\n",
              "      <td>349</td>\n",
              "      <td>34.9</td>\n",
              "      <td>-1190.297205</td>\n",
              "      <td>201.861533</td>\n",
              "      <td>-33.9165</td>\n",
              "      <td>67.469735</td>\n",
              "      <td>-32.410607</td>\n",
              "      <td>1.6539</td>\n",
              "      <td>1.3740</td>\n",
              "      <td>110.7848</td>\n",
              "      <td>0.4676</td>\n",
              "      <td>-249.2152</td>\n",
              "      <td>0.292</td>\n",
              "    </tr>\n",
              "  </tbody>\n",
              "</table>\n",
              "<p>349 rows × 13 columns</p>\n",
              "</div>"
            ],
            "text/plain": [
              "     idx  time            x           y        z       xVel       yVel  \\\n",
              "1      1   0.1    -1.351835   10.918864   0.0770 -15.790714  95.297967   \n",
              "2      2   0.2    -3.081032   20.458653   0.1420 -15.789622  95.255494   \n",
              "3      3   0.3    -4.812219   30.003029   0.2030 -15.789826  95.212240   \n",
              "4      4   0.4    -6.572300   40.744805   0.2690 -15.791282  95.164083   \n",
              "5      5   0.5    -8.296911   50.286584   0.3260 -15.793881  95.122080   \n",
              "..   ...   ...          ...         ...      ...        ...        ...   \n",
              "345  345  34.5 -1219.962718  216.173136 -34.7680  67.205132 -32.391639   \n",
              "346  346  34.6 -1212.601556  212.722526 -34.5605  67.275844 -32.371213   \n",
              "347  347  34.7 -1205.240393  209.271915 -34.3315  67.346440 -32.369366   \n",
              "348  348  34.8 -1197.658368  205.312144 -34.1195  67.410279 -32.383858   \n",
              "349  349  34.9 -1190.297205  201.861533 -33.9165  67.469735 -32.410607   \n",
              "\n",
              "       zVel   pitch   heading    roll  rev_heading  partial_heading  \n",
              "1    0.1318 -0.6870    0.0082 -0.8999       0.0082            0.082  \n",
              "2    0.1008 -0.7797    0.0190 -0.9142       0.0190            0.108  \n",
              "3    0.0691 -0.8830    0.0334 -0.9276       0.0334            0.144  \n",
              "4    0.0338 -0.9993    0.0512 -0.9415       0.0512            0.178  \n",
              "5    0.0033 -1.1008    0.0677 -0.9541       0.0677            0.165  \n",
              "..      ...     ...       ...     ...          ...              ...  \n",
              "345  2.1390 -2.1655  110.7816  1.1592    -249.2184           -0.384  \n",
              "346  2.0511 -0.8601  110.7520  1.0351    -249.2480           -0.296  \n",
              "347  1.9425  0.1987  110.7426  0.8558    -249.2574           -0.094  \n",
              "348  1.8100  0.8696  110.7556  0.6542    -249.2444            0.130  \n",
              "349  1.6539  1.3740  110.7848  0.4676    -249.2152            0.292  \n",
              "\n",
              "[349 rows x 13 columns]"
            ]
          },
          "execution_count": 9,
          "metadata": {},
          "output_type": "execute_result"
        }
      ],
      "source": [
        "def delta_heading(df, sampling_freq=0.1):\n",
        "  continize_heading(df)\n",
        "  df[\"partial_heading\"] = df[\"rev_heading\"].diff() / sampling_freq\n",
        "  return df.loc[1:,:]\n",
        "\n",
        "delta_heading(maneuvers[2].copy())"
      ]
    },
    {
      "cell_type": "markdown",
      "metadata": {
        "id": "1nVCGzHCRY3d"
      },
      "source": [
        "# Hypothesis Testing Preprocessing\n",
        "\n",
        "Now, we have reducted the dimentionality from 11 features to 4 features. We will implement some helper functions that will assist in our hypothesis testing which will be conducted next.\n"
      ]
    },
    {
      "cell_type": "code",
      "execution_count": 10,
      "metadata": {
        "id": "vQs_QqEXRnSw"
      },
      "outputs": [],
      "source": [
        "from sklearn.metrics import roc_curve, auc\n",
        "import numpy as np\n",
        "import matplotlib.pyplot as plt\n",
        "from matplotlib.lines import Line2D\n",
        "\n",
        "def obtain_sortie(length=120, probability_SLUF=0.4, transition=\"maneuver\"):\n",
        "  '''\n",
        "  Generated synthetic sortie from exemplatory samples\n",
        "\n",
        "          Parameters:\n",
        "                  length (int): Minimium Length in seconds of sortie\n",
        "                  probability_SLUF (int): Chance of SLUF being selected for each maneuver\n",
        "                  transition (enum): Dictates how to handle transitionary period. Options: [\"maneuver\", \"SLUF\", \"ignore\",\"split\"]\n",
        "                                    \"maneuver\": Keeps the transition period as a individual Maneuver (-1 label)\n",
        "                                    \"SLUF\"    : Makes entire transiton period SLUF (0 label)\n",
        "                                    \"ignore\"  : Drops all transition periods\n",
        "                                    \"split\"   : Splits the transition and adds to nearest maneuver (SLUF or Maneuver)\n",
        "\n",
        "          Returns:\n",
        "                  modified_sortie (pandas.DataFrame): Synthetic data frame of with columns [\"speed\",\"pitch\",\"roll\", \"partial_heading\", \"maneuver\"]\n",
        "                  maneuver_ranges (pandas.DataFrame): Dataframe consisting of Manuever number and associated start and end times\n",
        "  '''\n",
        "\n",
        "  #Generate Sortie\n",
        "  sortie_data, change_points, maneuver_choices = generate_sortie(length, maneuvers, p=probability_SLUF)\n",
        "\n",
        "  #Add starting and ending change points\n",
        "  change_points.append(sortie_data.iloc[-1][\"time\"])\n",
        "  change_points.insert(0, 0)\n",
        "\n",
        "  #Calculate maneuver ranges\n",
        "  maneuver_ranges = pd.DataFrame([(maneuver_choices[i], change_points[i], change_points[i+1]) for i in range(len(maneuver_choices))],\n",
        "                                columns=[\"maneuver\",\"start_time\",\"end_time\"])\n",
        "\n",
        "  if transition == \"split\":\n",
        "    transient_times = maneuver_ranges[maneuver_ranges[\"maneuver\"]==-1]\n",
        "    split_times = transient_times[\"start_time\"] + ((transient_times[\"end_time\"] - transient_times[\"start_time\"])/2)\n",
        "\n",
        "    for idx in split_times.index:\n",
        "      maneuver_ranges.loc[idx-1, \"end_time\"] = split_times[idx]\n",
        "      maneuver_ranges.loc[idx+1, \"start_time\"] = split_times[idx]\n",
        "\n",
        "    maneuver_ranges = maneuver_ranges[maneuver_ranges[\"maneuver\"]!=-1]\n",
        "  elif transition == \"SLUF\":\n",
        "    maneuver_ranges.loc[maneuver_ranges[\"maneuver\"]==-1, \"maneuver\"] = 0\n",
        "  elif transition == \"ignore\":\n",
        "    maneuver_ranges = maneuver_ranges[maneuver_ranges[\"maneuver\"]!=-1]\n",
        "\n",
        "\n",
        "  #Process generated sortie\n",
        "  modified_sortie = calc_speed(sortie_data.copy())\n",
        "  modified_sortie = delta_heading(modified_sortie)\n",
        "  modified_sortie = pd.merge_asof(modified_sortie, maneuver_ranges, left_on='time', right_on=\"start_time\")\n",
        "  modified_sortie = modified_sortie[[\"speed\",\"pitch\",\"roll\", \"partial_heading\", \"maneuver\"]]\n",
        "  return modified_sortie, maneuver_ranges\n",
        "\n",
        "def plot_roc(ax, label, score, title=\"\"):\n",
        "  fpr, tpr, thresholds = roc_curve(label, score, pos_label=0)\n",
        "  ax.plot(fpr,tpr)\n",
        "  ax.set_title(title + f' auc:{round(auc(fpr, tpr),5)}')\n",
        "  ax.plot([0, 1], [0, 1],'r--')\n",
        "  return fpr, tpr, thresholds\n",
        "\n",
        "#input is change points\n",
        "def compare_results(true_cp, true_seg, pred_cp, pred_seg):\n",
        "  category_colors = {\n",
        "    'SLUF': 'blue',\n",
        "    'Maneuver': 'red',\n",
        "    'Transient': 'green'\n",
        "  }\n",
        "\n",
        "  fig, ax = plt.subplots()\n",
        "\n",
        "  #Actual\n",
        "  for i in range(len(true_cp)-1):\n",
        "      ax.hlines(y=.75, xmin=true_cp[i], xmax=true_cp[i+1], colors=category_colors[true_seg[i]], linewidth=6,\n",
        "                label=true_seg[i] if i == 0 else \"\")\n",
        "  #predicted\n",
        "  for i in range(len(pred_cp)-1):\n",
        "      ax.hlines(y=0.25, xmin=pred_cp[i], xmax=pred_cp[i+1], colors=category_colors[pred_seg[i]], linestyle='--', linewidth=6,\n",
        "                label='Predicted ' + pred_seg[i] if i == 0 else \"\")\n",
        "\n",
        "  # Adding labels and title\n",
        "  ax.set_xlabel('Time (s)')\n",
        "  ax.set_title('Sortie Segmentation Visualization: Actual (top) vs Predicted (bottom)')\n",
        "  ax.get_yaxis().set_visible(False)\n",
        "  ax.set_ylim([-1, 2])\n",
        "  ax.legend(handles=[Line2D([0], [0], color=color, lw=4, label=f'{cat}') for cat, color in category_colors.items()])\n",
        "  plt.show()"
      ]
    },
    {
      "cell_type": "markdown",
      "metadata": {
        "id": "zxt9gra6DBm1"
      },
      "source": [
        "# Change Point Detection Implementation\n",
        "\n",
        "Now that we have (synthetic) data and known change points, we can work on implementing Change Point Detection (CPD). The methods explored here will attempt to implement Online Change Point Detection. This is not nessisarily important in this step, but is critical for real world implementation. Online change point detection perform the analysis in real-time on a stream of data. This means the model can run in the background of the flight simulator. In contrast offline change point detection requires all the data to be seen at once. Although this is not an error now, this would mean pilots utilizing the simulator would not know the score of thier maneuvers until after they were finished flying."
      ]
    },
    {
      "cell_type": "markdown",
      "metadata": {
        "id": "PsWEKbFOil40"
      },
      "source": [
        "## Fixed Sample Hypothesis Test\n",
        "\n",
        "Fixed sample hypothesis testing involves having a known number of samples to form a hypothesis test. The result is then compared against a threshold. This is the first form of methods we will examine."
      ]
    },
    {
      "cell_type": "markdown",
      "metadata": {
        "id": "mMu8p0dxUiUl"
      },
      "source": [
        "### Energy Detector\n",
        "\n",
        "The most niave approach to test for maneuver segements is a single-shot energy detector. This treats the problem as a signal-in-noise problem with a single observation. This is a standard first test since it assumes we have no information (model/parameters) about the data."
      ]
    },
    {
      "cell_type": "code",
      "execution_count": 147,
      "metadata": {
        "colab": {
          "base_uri": "https://localhost:8080/",
          "height": 887
        },
        "id": "ss56qBAwZaqm",
        "outputId": "5e5fe004-c108-4fd4-f7e8-b6287d54e6a4"
      },
      "outputs": [
        {
          "name": "stdout",
          "output_type": "stream",
          "text": [
            "   maneuver  start_time  end_time\n",
            "0         0         0.0       6.0\n",
            "1        -1         6.0       7.8\n",
            "2        17         7.8     136.4\n",
            "prop sluf time 0.04398826979472142\n"
          ]
        },
        {
          "data": {
            "image/png": "[encoded data removed]",
            "text/plain": [
              "<Figure size 1000x500 with 2 Axes>"
            ]
          },
          "metadata": {},
          "output_type": "display_data"
        }
      ],
      "source": [
        "from scipy.spatial.distance import mahalanobis\n",
        "\n",
        "#Obtain sample data\n",
        "modified_sortie, true_ranges = obtain_sortie(transition=\"maneuver\")\n",
        "\n",
        "#Turn all Non-SLUF maneuvers to 1\n",
        "modified_sortie.loc[modified_sortie[\"maneuver\"]!=0, \"maneuver\"] = 1\n",
        "\n",
        "print(true_ranges)\n",
        "sluf_time = true_ranges[true_ranges['maneuver']==0][['start_time', 'end_time']]\n",
        "total_time = (true_ranges['end_time']-true_ranges['start_time']).sum()\n",
        "print(\"prop sluf time\",(sluf_time['end_time']-sluf_time['start_time']).sum()/total_time)\n",
        "\n",
        "#Energy Detector with L2 Norm\n",
        "modified_sortie[\"L2_Energy\"] = np.sqrt(np.sum(np.square(modified_sortie[[\"speed\",\"pitch\",\"roll\", \"partial_heading\"]]), axis=1))\n",
        "# modified_sortie[\"energy\"] = np.sum(np.square(modified_sortie[[\"speed\",\"pitch\",\"roll\", \"partial_heading\"]]), axis=1)\n",
        "\n",
        "# #Energy Detector with Mahalanobis Distance\n",
        "mu = modified_sortie[[\"speed\",\"pitch\",\"roll\", \"partial_heading\"]].mean()\n",
        "cov = modified_sortie[[\"speed\",\"pitch\",\"roll\", \"partial_heading\"]].cov()\n",
        "modified_sortie[\"Mah_Energy\"] = modified_sortie[[\"speed\",\"pitch\",\"roll\", \"partial_heading\"]].apply(mahalanobis, axis=1, args=(mu, np.linalg.inv(cov)))\n",
        "\n",
        "#Plot ROC Curve\n",
        "fig, ax = plt.subplots(1,2,figsize=(10,5))\n",
        "\n",
        "# plot_roc(ax[0],modified_sortie[\"maneuver\"], modified_sortie[\"energy\"], title=\"Energy Detector\")\n",
        "plot_roc(ax[1],modified_sortie[\"maneuver\"], modified_sortie[\"L2_Energy\"], title=\"L2 Energy Detector\")\n",
        "plot_roc(ax[0],modified_sortie[\"maneuver\"], modified_sortie[\"Mah_Energy\"], title=\"Mahalanobis Energy Detector\")\n",
        "\n",
        "plt.show()"
      ]
    },
    {
      "cell_type": "markdown",
      "metadata": {
        "id": "G7KhMRkf656I"
      },
      "source": [
        "#### 1D Visulization of Decision Regions"
      ]
    },
    {
      "cell_type": "code",
      "execution_count": 148,
      "metadata": {
        "colab": {
          "base_uri": "https://localhost:8080/",
          "height": 471
        },
        "id": "WnvQk-N42gZd",
        "outputId": "b6a7d805-c8ee-4cf4-a0c1-efb387131223"
      },
      "outputs": [
        {
          "data": {
            "image/png": "[encoded data removed]",
            "text/plain": [
              "<Figure size 640x480 with 1 Axes>"
            ]
          },
          "metadata": {},
          "output_type": "display_data"
        }
      ],
      "source": [
        "#Update Range Names\n",
        "true_ranges.loc[true_ranges[\"maneuver\"] == 0,\"maneuver\"] = \"SLUF\"\n",
        "true_ranges.loc[true_ranges[\"maneuver\"] == -1,\"maneuver\"] = \"Transient\"\n",
        "true_ranges.loc[true_ranges[\"maneuver\"].astype(str).str.isdigit(),\"maneuver\"] = \"Maneuver\"\n",
        "\n",
        "#Extract true Change Points\n",
        "true_cp = np.insert(true_ranges[\"end_time\"].to_numpy(),0,0)\n",
        "true_seg = true_ranges[\"maneuver\"].to_numpy()\n",
        "\n",
        "#Use optimal threshold to predict future vals\n",
        "fpr, tpr, thresholds = roc_curve(modified_sortie[\"maneuver\"], modified_sortie[\"Mah_Energy\"], pos_label=0)\n",
        "modified_sortie.loc[modified_sortie[\"Mah_Energy\"] < thresholds[np.argmax(tpr - fpr)], \"pred_val\"] = 1\n",
        "modified_sortie.loc[modified_sortie[\"Mah_Energy\"] >= thresholds[np.argmax(tpr - fpr)], \"pred_val\"] = 0\n",
        "\n",
        "#Identify change points\n",
        "pred_cp = modified_sortie[modified_sortie['pred_val'].diff().ne(0)]\n",
        "pred_seg = pred_cp[\"pred_val\"].copy()\n",
        "pred_cp = pred_cp.index.to_numpy() * 0.1\n",
        "pred_cp = np.append(pred_cp, len(modified_sortie)/10)\n",
        "\n",
        "pred_seg.loc[pred_seg == 0] = \"SLUF\"\n",
        "pred_seg.loc[pred_seg == 1] = \"Maneuver\"\n",
        "\n",
        "compare_results(true_cp,true_seg,pred_cp,pred_seg.to_numpy())"
      ]
    },
    {
      "cell_type": "markdown",
      "metadata": {
        "id": "56N4XYSJi6Fx"
      },
      "source": [
        "#### Monte-Carlo Threshold Estimation"
      ]
    },
    {
      "cell_type": "code",
      "execution_count": 165,
      "metadata": {
        "colab": {
          "base_uri": "https://localhost:8080/"
        },
        "id": "j1Ng0sIJXb87",
        "outputId": "f02116d8-5103-4c94-e721-3e19b7dfbf9c"
      },
      "outputs": [
        {
          "name": "stdout",
          "output_type": "stream",
          "text": [
            "Average L2 Energy AUC:0.745984514279713\n",
            "Average Mahalanobis Energy AUC: 0.8340208754931111\n"
          ]
        }
      ],
      "source": [
        "from scipy.spatial.distance import mahalanobis\n",
        "iters = 100\n",
        "\n",
        "L2_AUC = []\n",
        "Mal_AUC = []\n",
        "\n",
        "for _ in range(iters):\n",
        "  #Obtain sample data\n",
        "  modified_sortie, _ = obtain_sortie(transition=\"maneuver\")\n",
        "\n",
        "  #Turn all Non-SLUF maneuvers to 1\n",
        "  modified_sortie.loc[modified_sortie[\"maneuver\"]!=0, \"maneuver\"] = 1\n",
        "\n",
        "  #Energy Detector with L2 Norm\n",
        "  modified_sortie[\"L2_Energy\"] = np.sqrt(np.square(modified_sortie.drop(['maneuver'], axis=1)).sum(axis=1))\n",
        "\n",
        "  #Energy Detector with Mahalanobis Distance\n",
        "  mu = modified_sortie.drop(['maneuver', \"L2_Energy\"], axis=1).mean()\n",
        "  cov = modified_sortie.drop(['maneuver', \"L2_Energy\"], axis=1).cov()\n",
        "  modified_sortie[\"Mah_Energy\"] = modified_sortie.drop(['maneuver', \"L2_Energy\"], axis=1).apply(mahalanobis, axis=1, args=(mu, np.linalg.inv(cov)))\n",
        "\n",
        "  #Plot ROC Curve\n",
        "  fpr, tpr, thresholds = roc_curve(modified_sortie[\"maneuver\"], modified_sortie[\"L2_Energy\"], pos_label=0)\n",
        "  L2_AUC.append(max(auc(fpr, tpr), 1-auc(fpr, tpr)))\n",
        "\n",
        "  fpr, tpr, thresholds = roc_curve(modified_sortie[\"maneuver\"], modified_sortie[\"Mah_Energy\"], pos_label=0)\n",
        "  Mal_AUC.append(max(auc(fpr, tpr), 1-auc(fpr, tpr)))\n",
        "\n",
        "print(f\"Average L2 Energy AUC:{sum(L2_AUC)/iters}\")\n",
        "print(f\"Average Mahalanobis Energy AUC: {sum(Mal_AUC)/iters}\")"
      ]
    },
    {
      "cell_type": "markdown",
      "metadata": {
        "id": "GcspdBdPi6ai"
      },
      "source": [
        "### Single-Shot Difference in Means"
      ]
    },
    {
      "cell_type": "code",
      "execution_count": 34,
      "metadata": {
        "colab": {
          "base_uri": "https://localhost:8080/",
          "height": 451
        },
        "id": "ueDZx3g0i5qX",
        "outputId": "c898cdc8-5e05-412a-9f5a-2d9564d9917c"
      },
      "outputs": [
        {
          "data": {
            "image/png": "[encoded data removed]",
            "text/plain": [
              "<Figure size 1500x500 with 2 Axes>"
            ]
          },
          "metadata": {},
          "output_type": "display_data"
        }
      ],
      "source": [
        "from scipy.stats import multivariate_normal\n",
        "\n",
        "def pred_VS_actual(ax, thresholds, tpr, fpr, sortie_data, true_ranges, feature_name=\"delta_mean\"):\n",
        "    category_colors = {\n",
        "        0: 'blue', #sluf\n",
        "        1: 'red', #maneuver\n",
        "        -1: 'green' #transition\n",
        "    }\n",
        "\n",
        "    label_map = {\n",
        "        'blue':'SLUF',\n",
        "        'red':'Maneuver',\n",
        "        'green':'Transient'\n",
        "    }\n",
        "    optimal_thresh = thresholds[np.argmax(tpr - fpr)]\n",
        "    predictions = [0 if x >= optimal_thresh else 1 for x in sortie_data[feature_name]]\n",
        "\n",
        "    actualRanges = true_ranges[['start_time', 'end_time']].values\n",
        "    actualColors = [category_colors[i] if i in category_colors else category_colors[1] for i in true_ranges['maneuver'].values]\n",
        "\n",
        "    # get ranges from predictions\n",
        "    predictedRanges = []\n",
        "    predictedColors = []\n",
        "    start = 0\n",
        "    curr = predictions[0]\n",
        "    predictedColors.append(category_colors[curr])\n",
        "    for i in range(1,len(predictions)):\n",
        "        pred = predictions[i]\n",
        "        if pred != curr:\n",
        "            predictedRanges.append([start, i/10])\n",
        "            curr = pred\n",
        "            start = i/10\n",
        "            predictedColors.append(category_colors[curr])\n",
        "        if i == len(predictions) -1:\n",
        "            predictedRanges.append([start, i/10])\n",
        "\n",
        "    # plot\n",
        "    for i in range(len(actualColors)):\n",
        "        ax.hlines(y=25, xmin=actualRanges[i][0], xmax=actualRanges[i][1], colors=actualColors[i], linewidth=20)\n",
        "    for i in range(len(predictedColors)):\n",
        "        ax.hlines(y=15, xmin=predictedRanges[i][0], xmax=predictedRanges[i][1], colors=predictedColors[i], linewidth=20)\n",
        "\n",
        "    for color in label_map: #create legend labels\n",
        "        ax.plot([],[],color=color, label=label_map[color])\n",
        "    ax.set_yticks([15, 25], labels=['Predicted','Actual'])\n",
        "    ax.set_ylim(5, 35)\n",
        "    ax.set_title(\"1D Visualization of Decision Region\")\n",
        "    ax.legend()\n",
        "\n",
        "#calculate Cov and Mu from sample SLUF\n",
        "hyp_SLUF = calc_speed(maneuvers[0].copy())\n",
        "hyp_SLUF = delta_heading(hyp_SLUF)\n",
        "\n",
        "hyp_SLUF_cov = hyp_SLUF[[\"speed\",\"pitch\",\"roll\", \"partial_heading\"]].cov()\n",
        "hyp_SLUF_mu = hyp_SLUF[[\"speed\",\"pitch\",\"roll\", \"partial_heading\"]].mean()\n",
        "\n",
        "#Obtain sample data\n",
        "modified_sortie, true_ranges = obtain_sortie(transition=\"maneuver\")\n",
        "\n",
        "#Turn all Non-SLUF maneuvers to 1\n",
        "modified_sortie.loc[modified_sortie[\"maneuver\"]!=0, \"maneuver\"] = 1\n",
        "\n",
        "#Difference in Means hypothesis\n",
        "modified_sortie[\"delta_mean\"] = modified_sortie.drop(['maneuver'], axis=1).apply(multivariate_normal.pdf, axis=1, args=(hyp_SLUF_mu, hyp_SLUF_cov))\n",
        "\n",
        "#Plot ROC Curve and pred vs actual\n",
        "fig, ax = plt.subplots(1,2,figsize=(15,5))\n",
        "fpr, tpr, thresholds = plot_roc(ax[0], modified_sortie[\"maneuver\"], modified_sortie[\"delta_mean\"], title=\"Difference in Means\")\n",
        "pred_VS_actual(ax[1], thresholds,tpr,fpr,modified_sortie,true_ranges)\n",
        "plt.show()\n",
        "\n"
      ]
    },
    {
      "cell_type": "markdown",
      "metadata": {
        "id": "cVRtKMqWhTR2"
      },
      "source": [
        "#### Monte-Carlo Threshold Estimation"
      ]
    },
    {
      "cell_type": "code",
      "execution_count": null,
      "metadata": {
        "colab": {
          "base_uri": "https://localhost:8080/"
        },
        "id": "JxhtMslenTCt",
        "outputId": "2631277c-5105-4946-f6a6-15ccb180f5f0"
      },
      "outputs": [
        {
          "name": "stdout",
          "output_type": "stream",
          "text": [
            "Average Difference in Means AUC: 0.9992877907571445\n",
            "Average Optimal Threshold:0.00019829566466744822\n"
          ]
        }
      ],
      "source": [
        "from scipy.stats import multivariate_normal\n",
        "\n",
        "#calculate Cov and Mu from sample SLUF\n",
        "hyp_SLUF = calc_speed(maneuvers[0].copy())\n",
        "hyp_SLUF = delta_heading(hyp_SLUF)\n",
        "\n",
        "hyp_SLUF_cov = hyp_SLUF[[\"speed\",\"pitch\",\"roll\", \"partial_heading\"]].cov()\n",
        "hyp_SLUF_mu = hyp_SLUF[[\"speed\",\"pitch\",\"roll\", \"partial_heading\"]].mean()\n",
        "\n",
        "iters = 100\n",
        "diff_AUC = []\n",
        "optimal_thresholds = []\n",
        "\n",
        "for _ in range(iters):\n",
        "  #Obtain sample data\n",
        "  modified_sortie, _ = obtain_sortie(transition=\"maneuver\")\n",
        "\n",
        "  #Turn all Non-SLUF maneuvers to 1\n",
        "  modified_sortie.loc[modified_sortie[\"maneuver\"]!=0, \"maneuver\"] = 1\n",
        "\n",
        "  #Difference in Means hypothesis\n",
        "  modified_sortie[\"delta_mean\"] = modified_sortie.drop(['maneuver'], axis=1).apply(multivariate_normal.pdf, axis=1, args=(hyp_SLUF_mu, hyp_SLUF_cov))\n",
        "\n",
        "  #Plot ROC Curve\n",
        "  fpr, tpr, thresholds = roc_curve(modified_sortie[\"maneuver\"], modified_sortie[\"delta_mean\"], pos_label=0)\n",
        "  diff_AUC.append(auc(fpr, tpr))\n",
        "  optimal_thresholds.append(thresholds[np.argmax(tpr - fpr)])\n",
        "\n",
        "print(f\"Average Difference in Means AUC: {sum(diff_AUC)/iters}\")\n",
        "print(f\"Average Optimal Threshold:{sum(optimal_thresholds)/iters}\")"
      ]
    },
    {
      "cell_type": "code",
      "execution_count": null,
      "metadata": {
        "colab": {
          "base_uri": "https://localhost:8080/",
          "height": 429
        },
        "id": "VR8qqiM_s4JP",
        "outputId": "d1cf87ab-37cc-4b31-9d93-0eeef72fe13c"
      },
      "outputs": [
        {
          "data": {
            "image/png": "[encoded data removed]",
            "text/plain": [
              "<Figure size 640x480 with 1 Axes>"
            ]
          },
          "metadata": {},
          "output_type": "display_data"
        }
      ],
      "source": [
        "plt.hist(optimal_thresholds, bins='auto', alpha=0.7, rwidth=0.85)\n",
        "plt.show()"
      ]
    },
    {
      "cell_type": "markdown",
      "metadata": {
        "id": "k8k_VbjolX_D"
      },
      "source": [
        "### Multi-sample Difference in Means (Rolling Window)"
      ]
    },
    {
      "cell_type": "code",
      "execution_count": null,
      "metadata": {
        "colab": {
          "base_uri": "https://localhost:8080/",
          "height": 451
        },
        "id": "kmI1ILiHlZrQ",
        "outputId": "d05ef430-0271-43ee-e8b0-2b756c9a7459"
      },
      "outputs": [
        {
          "data": {
            "image/png": "[encoded data removed]",
            "text/plain": [
              "<Figure size 640x480 with 1 Axes>"
            ]
          },
          "metadata": {},
          "output_type": "display_data"
        }
      ],
      "source": [
        "from scipy.stats import multivariate_normal\n",
        "\n",
        "#number of observations to ignore (sample_freq = 10Hz)\n",
        "window_size = 10\n",
        "\n",
        "#calculate Cov and Mu from sample SLUF\n",
        "hyp_SLUF = calc_speed(maneuvers[0].copy())\n",
        "hyp_SLUF = delta_heading(hyp_SLUF)\n",
        "\n",
        "hyp_SLUF_cov = hyp_SLUF[[\"speed\",\"pitch\",\"roll\", \"partial_heading\"]].cov()\n",
        "hyp_SLUF_mu = hyp_SLUF[[\"speed\",\"pitch\",\"roll\", \"partial_heading\"]].mean()\n",
        "\n",
        "#Obtain sample data\n",
        "modified_sortie, _ = obtain_sortie(transition=\"maneuver\")\n",
        "\n",
        "#Turn all Non-SLUF maneuvers to 1\n",
        "modified_sortie.loc[modified_sortie[\"maneuver\"]!=0, \"maneuver\"] = 1\n",
        "\n",
        "#implement Rolling Window\n",
        "modified_sortie = modified_sortie.rolling(window_size).mean()\n",
        "\n",
        "#remove NA values\n",
        "modified_sortie = modified_sortie.iloc[window_size:]\n",
        "\n",
        "#Discritize maneuver\n",
        "modified_sortie.loc[modified_sortie[\"maneuver\"]>=0.5, \"maneuver\"] = 1\n",
        "modified_sortie.loc[modified_sortie[\"maneuver\"]<0.5, \"maneuver\"] = 0\n",
        "\n",
        "#Difference in Means hypothesis\n",
        "modified_sortie[\"delta_mean\"] = modified_sortie.drop(['maneuver'], axis=1).apply(multivariate_normal.pdf, axis=1, args=(hyp_SLUF_mu, hyp_SLUF_cov))\n",
        "\n",
        "#Plot ROC Curve\n",
        "plot_roc(modified_sortie[\"maneuver\"], modified_sortie[\"delta_mean\"], title=\"Difference in Means\")"
      ]
    },
    {
      "cell_type": "markdown",
      "metadata": {
        "id": "459RFPRShfcv"
      },
      "source": [
        "#### Monte-Carlo Threshold Estimation"
      ]
    },
    {
      "cell_type": "code",
      "execution_count": null,
      "metadata": {
        "colab": {
          "base_uri": "https://localhost:8080/"
        },
        "id": "qVc3ZU8gn4Bc",
        "outputId": "022ffc82-795e-430b-c66f-41ce59afddb9"
      },
      "outputs": [
        {
          "name": "stdout",
          "output_type": "stream",
          "text": [
            "Average Difference in Means AUC: 0.9996843631342347\n",
            "Average Optimal Threshold:0.0014362190729582233\n"
          ]
        }
      ],
      "source": [
        "from scipy.stats import multivariate_normal\n",
        "\n",
        "#calculate Cov and Mu from sample SLUF\n",
        "hyp_SLUF = calc_speed(maneuvers[0].copy())\n",
        "hyp_SLUF = delta_heading(hyp_SLUF)\n",
        "\n",
        "hyp_SLUF_cov = hyp_SLUF[[\"speed\",\"pitch\",\"roll\", \"partial_heading\"]].cov()\n",
        "hyp_SLUF_mu = hyp_SLUF[[\"speed\",\"pitch\",\"roll\", \"partial_heading\"]].mean()\n",
        "\n",
        "window_size = 10\n",
        "\n",
        "iters = 100\n",
        "diff_AUC = []\n",
        "optimal_thresholds = []\n",
        "\n",
        "for _ in range(iters):\n",
        "  #Obtain sample data\n",
        "  modified_sortie, _ = obtain_sortie(transition=\"maneuver\")\n",
        "\n",
        "  #Turn all Non-SLUF maneuvers to 1\n",
        "  modified_sortie.loc[modified_sortie[\"maneuver\"]!=0, \"maneuver\"] = 1\n",
        "\n",
        "  #implement Rolling Window\n",
        "  modified_sortie = modified_sortie.rolling(window_size).mean()\n",
        "\n",
        "  #remove NA values\n",
        "  modified_sortie = modified_sortie.iloc[window_size:]\n",
        "\n",
        "  #Discritize maneuver\n",
        "  modified_sortie.loc[modified_sortie[\"maneuver\"]>=0.5, \"maneuver\"] = 1\n",
        "  modified_sortie.loc[modified_sortie[\"maneuver\"]<0.5, \"maneuver\"] = 0\n",
        "\n",
        "  #Difference in Means hypothesis\n",
        "  modified_sortie[\"delta_mean\"] = modified_sortie.drop(['maneuver'], axis=1).apply(multivariate_normal.pdf, axis=1, args=(hyp_SLUF_mu, hyp_SLUF_cov))\n",
        "\n",
        "  #Plot ROC Curve\n",
        "  fpr, tpr, thresholds = roc_curve(modified_sortie[\"maneuver\"], modified_sortie[\"delta_mean\"], pos_label=0)\n",
        "  diff_AUC.append(auc(fpr, tpr))\n",
        "  optimal_thresholds.append(thresholds[np.argmax(tpr - fpr)])\n",
        "\n",
        "print(f\"Average Difference in Means AUC: {sum(diff_AUC)/iters}\")\n",
        "print(f\"Average Optimal Threshold:{sum(optimal_thresholds)/iters}\")"
      ]
    },
    {
      "cell_type": "code",
      "execution_count": null,
      "metadata": {
        "colab": {
          "base_uri": "https://localhost:8080/",
          "height": 429
        },
        "id": "2EzBjOUdrYZo",
        "outputId": "e706d4c9-e7ce-4cb1-8c18-a3bcd51c3061"
      },
      "outputs": [
        {
          "data": {
            "image/png": "[encoded data removed]",
            "text/plain": [
              "<Figure size 640x480 with 1 Axes>"
            ]
          },
          "metadata": {},
          "output_type": "display_data"
        }
      ],
      "source": [
        "plt.hist(optimal_thresholds, bins='auto', alpha=0.7, rwidth=0.85)\n",
        "plt.show()"
      ]
    },
    {
      "cell_type": "markdown",
      "metadata": {
        "id": "iCVhXB7ihzSC"
      },
      "source": [
        "## Sequential Hypothesis Testing\n",
        "\n",
        "In contrast to fixed sample hypothesis testing, Sequential hypothesis has a unknown number of samples. We will examine these methods next"
      ]
    },
    {
      "cell_type": "markdown",
      "metadata": {
        "id": "DEnd1ME7Rllg"
      },
      "source": [
        "### SPRT\n",
        "\n",
        "The first online algorithm we will explore is SPRT which stands for Sequential Probability Ratio Test. More information can be obtained [here](https://en.wikipedia.org/wiki/Sequential_probability_ratio_test)."
      ]
    },
    {
      "cell_type": "markdown",
      "metadata": {
        "id": "RrPeEzY0jwI1"
      },
      "source": [
        "#### **Problem Setup**\n",
        "\n",
        "Suppose we have a stream of data, $\\{ x_1, \\dots,  x_n \\}$, where $n$ is unknown (likely infinite). The datapoints $\\{ x_1, \\dots,  x_{τ} \\}$ sampled from $P(H_0)$ from time $[0,τ]$ before the sampling distrubution changes for data points $\\{ x_{τ + 1}, \\dots,  x_n \\}$ to $P(H_1)$. We wish to identify $τ$.\n",
        "\n",
        "#### **SPRT Approach**\n",
        "One method to identify tau is to perform a hypothesis test at each datapoint. That is\n",
        "\n",
        "$$λ(x_i) = \\ln \\frac{P(x_i|H_1)}{P(x_i|H_0)}$$\n",
        "\n",
        "If $λ(x_i) > 0$, we predict $H_1$ if $λ(x_i) < 0$, we predict $H_0$. Since the larger the value, the more certain we are of our choise, we can then keep track of the running total of our likelihoods, $λ(x_i)$, with the update rule:\n",
        "\n",
        "$$S_0 = 0$$\n",
        "$$S_{n} = S_{n-1} + λ(x_n)$$\n",
        "\n",
        "Then, we have threshold values, $a$ and $b$. These threshold values determine our prediction. If $a < S_n < b$, then we perform another update on $S_n$. Otherwise we use the decision rule below.\n",
        "\n",
        "$$S_{n} > b: H1$$\n",
        "$$S_{n} < a: H0$$\n",
        "\n",
        "$a$ and $b$ are generally calculated with the rules:\n",
        "$$a \\approx \\ln \\frac \\beta {1-\\alpha}$$\n",
        "$$b \\approx \\ln \\frac {1-\\beta} \\alpha$$\n",
        "\n",
        "Where $\\alpha$ and $\\beta$ are type I and type II errors respectively."
      ]
    },
    {
      "cell_type": "code",
      "execution_count": 61,
      "metadata": {
        "id": "FUNqWkZWUc4d"
      },
      "outputs": [
        {
          "name": "stderr",
          "output_type": "stream",
          "text": [
            "C:\\Users\\fuzzi\\AppData\\Local\\Packages\\PythonSoftwareFoundation.Python.3.10_qbz5n2kfra8p0\\LocalCache\\local-packages\\Python310\\site-packages\\pandas\\core\\arraylike.py:402: RuntimeWarning: divide by zero encountered in log\n",
            "  result = getattr(ufunc, method)(*inputs, **kwargs)\n"
          ]
        },
        {
          "data": {
            "image/png": "[encoded data removed]",
            "text/plain": [
              "<Figure size 640x480 with 1 Axes>"
            ]
          },
          "metadata": {},
          "output_type": "display_data"
        },
        {
          "data": {
            "image/png": "[encoded data removed]",
            "text/plain": [
              "<Figure size 640x480 with 1 Axes>"
            ]
          },
          "metadata": {},
          "output_type": "display_data"
        },
        {
          "data": {
            "image/png": "[encoded data removed]",
            "text/plain": [
              "<Figure size 640x480 with 1 Axes>"
            ]
          },
          "metadata": {},
          "output_type": "display_data"
        }
      ],
      "source": [
        "## Code implementing SPRT\n",
        "\n",
        "# sequential hypothesis test. Until decision is made, keep calculating lambdas. once decision made, reset and detect next one\n",
        "# h1 is sluf\n",
        "\n",
        "def plot_sprt(ax):\n",
        "  category_colors = {   \n",
        "      0: 'blue', #sluf\n",
        "      1: 'red', #maneuver\n",
        "      -1: 'green' #transition\n",
        "  }\n",
        "\n",
        "  label_map = {\n",
        "      'blue':'SLUF',\n",
        "      'red':'Maneuver',\n",
        "      'green':'Transient'\n",
        "  }\n",
        "  actualRanges = true_ranges[['start_time', 'end_time']].values\n",
        "  actualColors = [category_colors[i] if i in category_colors else category_colors[1] for i in true_ranges['maneuver'].values]\n",
        "\n",
        "  for i in range(len(actualColors)):\n",
        "      ax.hlines(y=25, xmin=actualRanges[i][0], xmax=actualRanges[i][1], colors=actualColors[i], linewidth=20)\n",
        "  # for i in range(len(predictedColors)):\n",
        "  #     ax.hlines(y=15, xmin=predictedRanges[i][0], xmax=predictedRanges[i][1], colors=predictedColors[i], linewidth=20)\n",
        "\n",
        "  for color in label_map: #create legend labels\n",
        "      ax.plot([],[],color=color, label=label_map[color])\n",
        "  ax.set_yticks([15, 25], labels=['Predicted','Actual'])\n",
        "  ax.set_ylim(5, 35)\n",
        "  ax.set_title(\"1D Visualization of Decision Region\")\n",
        "  ax.legend()\n",
        "\n",
        "\n",
        "#Obtain sample data\n",
        "modified_sortie, true_ranges = obtain_sortie(transition=\"maneuver\")\n",
        "\n",
        "#Turn all Non-SLUF maneuvers to 1\n",
        "modified_sortie.loc[modified_sortie[\"maneuver\"]!=0, \"maneuver\"] = 1\n",
        "\n",
        "\n",
        "modified_sortie[\"likelihood\"] = modified_sortie.drop(['maneuver'], axis=1).apply(multivariate_normal.pdf, axis=1, args=(hyp_SLUF_mu, hyp_SLUF_cov))\n",
        "modified_sortie[\"log_likelihood\"] = np.log(modified_sortie[\"likelihood\"])\n",
        "\n",
        "modified_sortie[\"log_likelihood\"].replace(-float('inf'), 1e-10, inplace=True)\n",
        "\n",
        "type1ErrorRate = 0.2 #PFA\n",
        "type2ErrorRate = 0.2 #P miss\n",
        "a = np.log(type2ErrorRate/(1-type1ErrorRate))\n",
        "b = np.log((1-type2ErrorRate)/(type1ErrorRate))\n",
        "\n",
        "\n",
        "fig, ax = plt.subplots()\n",
        "plot_sprt(ax)\n",
        "plt.show()\n",
        "\n",
        "\n",
        "# #Make an ROC curve for the threshold\n",
        "from sklearn import metrics\n",
        "fpr, tpr, thresholds = metrics.roc_curve(modified_sortie['maneuver'], modified_sortie['log_likelihood'], pos_label=0)\n",
        "auc = metrics.auc(fpr, tpr)\n",
        "\n",
        "plt.plot(fpr,tpr)\n",
        "plt.title(f'ROC detecting non-SLUF auc:{round(auc,5)}')\n",
        "plt.plot([0, 1], [0, 1],'r--')\n",
        "plt.show()\n"
      ]
    },
    {
      "cell_type": "markdown",
      "metadata": {
        "id": "pdKaLBjGER9r"
      },
      "source": [
        "### CUSUM\n",
        "The first online algorithm we will explore is CUSUM which stands for Cumulative Summation."
      ]
    },
    {
      "cell_type": "markdown",
      "metadata": {
        "id": "JCcHLRwgj2XT"
      },
      "source": [
        "#### **Problem Setup**\n",
        "\n",
        "Suppose we have a stream of data, $\\{ x_1, \\dots,  x_n \\}$, where $n$ is unknown (likely infinite). The datapoints $\\{ x_1, \\dots,  x_{τ} \\}$ sampled from $P(θ_1)$ from time $[0,τ]$ before the sampling distrubution changes for data points $\\{ x_{τ + 1}, \\dots,  x_n \\}$ to $P(θ_2)$. We wish to identify $τ$.\n",
        "\n",
        "#### **Niave Approach**\n",
        "One method to identify tau is to perform a hypothesis test at each datapoint. That is\n",
        "\n",
        "$$λ(x_i) = \\ln \\frac{P(θ_1|x_i)}{P(θ_2|x_i)}$$\n",
        "\n",
        "If $λ(x_i) > 0$, we predict $θ_1$ if $λ(x_i) < 0$, we predict $θ_2$. This is the equivelent of max$(P(θ_1|x_i), P(θ_2|x_i))$.\n",
        "\n",
        "The issue with this approach is it does not take into account the previous data points. This means that even a single extreame point is enough to trigger/identify a $τ$.\n",
        "\n",
        "#### **CUSUM Approach**\n",
        "The CUSUM approach takes the fundemental niave approach and implements a 'memory' segement using the iterative update:\n",
        "\n",
        "$$S_0 = 0$$\n",
        "$$S_{n+1} = \\text{max}(0, S_n + λ(x_{n+1}))$$\n",
        "\n",
        "When $S_n > \\eta$, the decision criteria is triggered and thus $τ_{pred} = n+1$."
      ]
    },
    {
      "cell_type": "code",
      "execution_count": null,
      "metadata": {
        "id": "Jvz27gpJj2-V"
      },
      "outputs": [],
      "source": [
        "### Implementation of C"
      ]
    },
    {
      "cell_type": "markdown",
      "metadata": {
        "id": "xlRMYG5xjePT"
      },
      "source": [
        "#CRap Right Now. Need to implmenent into the story"
      ]
    },
    {
      "cell_type": "markdown",
      "metadata": {
        "id": "pGYKrAy3U-1z"
      },
      "source": [
        "Since our data is not stationary on the time domain, we must carefully craft our hypothesis to be time independant. This is important as single data points must not be dependant on the time of the maneuver. For example, if we niavely calculate $$\\ln \\frac{P(x|H_1)}{P(x|H_0)} = \\ln \\frac{P(x|μ_{\\text{SLUF}}, Σ_{\\text{SLUF}})}{P(x|μ_{\\text{Maneuver}}, Σ_{\\text{Manuever}})}$$\n",
        "\n",
        "our data is still dependant on the time domain since $μ_{\\text{Maneuver}}, Σ_{\\text{Manuever}}$ are time dependant. Instead, will instead calculate the likelihood the data point is in SLUF.\n",
        "\n",
        "$$\\ln \\frac{P(x|H_1)}{P(x|H_0)} = \\ln \\frac{P(\\bar x_{avg}|μ_{\\text{SLUF}}, Σ_{\\text{SLUF}})}{P(\\bar x_{\\text{SLUF}}|μ_{\\text{SLUF}}, Σ_{\\text{SLUF}})}$$\n",
        "\n",
        "Where $μ_{\\text{SLUF}}, Σ_{\\text{SLUF}}$ are emperically calculated from our sample SLUF data. Then, we can see the time dependancy cancels when rewriting the results as\n",
        "\n",
        "$$\\ln \\frac{P(x|H_1)}{P(x|H_0)} = \\ln P(\\bar x_{avg}|μ_{\\text{SLUF}}, Σ_{\\text{SLUF}}) - P(\\bar x_{\\text{SLUF}}|μ_{\\text{SLUF}}, Σ_{\\text{SLUF}}) =\\ln P(\\bar x_{avg} - \\bar x_{\\text{SLUF}}|μ_{\\text{SLUF}}, Σ_{\\text{SLUF}})$$\n",
        "\n",
        "Therefore, observing the difference in means of a moving average is the sequential detection criteria."
      ]
    },
    {
      "cell_type": "code",
      "execution_count": null,
      "metadata": {
        "id": "qbTLsY1Ct9l1"
      },
      "outputs": [],
      "source": [
        "#Finds the PDF of a datapoint, x, given MVG parameters\n",
        "def calc_densities(x, hyp_SLUF_mu, hyp_SLUF_cov, hyp_maneuver_mu, hyp_maneuver_cov):\n",
        "  SLUF_likelihood = multivariate_normal.pdf(x, mean=hyp_SLUF_mu, cov=hyp_SLUF_cov)\n",
        "\n",
        "  m_likelihood\n",
        "  for m_idx, maneuver in enumerate(maneuvers):\n",
        "    m_likelihood.append(multivariate_normal.pdf(x, mean=hyp_maneuver_mu[m_idx], cov=hyp_maneuver_cov[m_idx]))\n",
        "\n",
        "  return SLUF_likelihood, m_likelihood"
      ]
    },
    {
      "cell_type": "code",
      "execution_count": null,
      "metadata": {
        "id": "4yoiVoexZ_to"
      },
      "outputs": [],
      "source": [
        "#Obtain MVG Parameters for SLUF\n",
        "hyp_SLUF = calc_speed(maneuvers[0].copy())\n",
        "hyp_SLUF = delta_heading(hyp_SLUF)\n",
        "\n",
        "hyp_SLUF_cov = hyp_SLUF[[\"speed\",\"pitch\",\"roll\", \"partial_heading\"]].cov()\n",
        "hyp_SLUF_mu = hyp_SLUF[[\"speed\",\"pitch\",\"roll\", \"partial_heading\"]].mean()\n",
        "\n",
        "#Obtain MVG Parameters for Maneuvers\n",
        "hyp_maneuver_cov = []\n",
        "hyp_maneuver_mu = []\n",
        "\n",
        "for maneuver in maneuvers[1:]:\n",
        "  hyp_ALT = calc_speed(maneuver.copy())\n",
        "  hyp_ALT = delta_heading(hyp_ALT)\n",
        "\n",
        "  hyp_maneuver_cov.append(hyp_ALT[[\"speed\",\"pitch\",\"roll\", \"partial_heading\"]].cov())\n",
        "  hyp_maneuver_mu.append(hyp_ALT[[\"speed\",\"pitch\",\"roll\", \"partial_heading\"]].mean())"
      ]
    },
    {
      "cell_type": "code",
      "execution_count": null,
      "metadata": {
        "id": "ei_IqybxvG2t"
      },
      "outputs": [],
      "source": [
        "#Genereate fake sortie data and preprocess the data\n",
        "sortie_data, change_points, maneuver_choices = generate_sortie(120, maneuvers, p=0.4)\n",
        "maneuver_ranges = np.array([(maneuver_choices[i], change_points[i-1], change_points[i])\n",
        "                            if i > 0 else (maneuver_choices[i], 0, change_points[i])\n",
        "                            for i in range(len(maneuver_choices))])\n",
        "# add preprocess columns\n",
        "modified_sortie = calc_speed(sortie_data.copy())\n",
        "modified_sortie = delta_heading(modified_sortie)\n",
        "\n",
        "# add labels to dataframe\n",
        "transition_periods = maneuver_ranges[np.where(maneuver_ranges[:,0] == -1)[0]]\n",
        "sluf_periods = maneuver_ranges[np.where(maneuver_ranges[:,0] == 0)[0]]\n",
        "\n",
        "sluf_row = np.any((sluf_periods[:, 1][:, None] <= modified_sortie['time'].values) &\n",
        "                       (sluf_periods[:, 2][:, None] >= modified_sortie['time'].values), axis=0)\n",
        "transition_periods_row = np.any((transition_periods[:, 1][:, None] <= modified_sortie['time'].values) &\n",
        "                       (transition_periods[:, 2][:, None] >= modified_sortie['time'].values), axis=0)\n",
        "maneuver_row = ~(transition_periods_row & sluf_row)\n",
        "modified_sortie['label'] = np.select([sluf_row,transition_periods_row,maneuver_row], [0,-1,1])\n",
        "stringmap = {-1:'transition',0:'sluf',1:'maneuver'}\n",
        "\n",
        "# prune columns\n",
        "modified_sortie = modified_sortie[[\"label\",\"speed\",\"pitch\",\"roll\", \"partial_heading\"]]\n",
        "\n",
        "# prune transition periods\n",
        "print('before',modified_sortie.shape)\n",
        "modified_sortie[modified_sortie['label'] != -1].reset_index(inplace=True)\n",
        "print('after',modified_sortie.shape)"
      ]
    },
    {
      "cell_type": "code",
      "execution_count": 31,
      "metadata": {
        "id": "Q6tPfvu0wkzr"
      },
      "outputs": [
        {
          "ename": "KeyError",
          "evalue": "'label'",
          "output_type": "error",
          "traceback": [
            "\u001b[1;31m---------------------------------------------------------------------------\u001b[0m",
            "\u001b[1;31mKeyError\u001b[0m                                  Traceback (most recent call last)",
            "File \u001b[1;32m~\\AppData\\Local\\Packages\\PythonSoftwareFoundation.Python.3.10_qbz5n2kfra8p0\\LocalCache\\local-packages\\Python310\\site-packages\\pandas\\core\\indexes\\base.py:3802\u001b[0m, in \u001b[0;36mIndex.get_loc\u001b[1;34m(self, key, method, tolerance)\u001b[0m\n\u001b[0;32m   3801\u001b[0m \u001b[38;5;28;01mtry\u001b[39;00m:\n\u001b[1;32m-> 3802\u001b[0m     \u001b[38;5;28;01mreturn\u001b[39;00m \u001b[38;5;28;43mself\u001b[39;49m\u001b[38;5;241;43m.\u001b[39;49m\u001b[43m_engine\u001b[49m\u001b[38;5;241;43m.\u001b[39;49m\u001b[43mget_loc\u001b[49m\u001b[43m(\u001b[49m\u001b[43mcasted_key\u001b[49m\u001b[43m)\u001b[49m\n\u001b[0;32m   3803\u001b[0m \u001b[38;5;28;01mexcept\u001b[39;00m \u001b[38;5;167;01mKeyError\u001b[39;00m \u001b[38;5;28;01mas\u001b[39;00m err:\n",
            "File \u001b[1;32m~\\AppData\\Local\\Packages\\PythonSoftwareFoundation.Python.3.10_qbz5n2kfra8p0\\LocalCache\\local-packages\\Python310\\site-packages\\pandas\\_libs\\index.pyx:138\u001b[0m, in \u001b[0;36mpandas._libs.index.IndexEngine.get_loc\u001b[1;34m()\u001b[0m\n",
            "File \u001b[1;32m~\\AppData\\Local\\Packages\\PythonSoftwareFoundation.Python.3.10_qbz5n2kfra8p0\\LocalCache\\local-packages\\Python310\\site-packages\\pandas\\_libs\\index.pyx:165\u001b[0m, in \u001b[0;36mpandas._libs.index.IndexEngine.get_loc\u001b[1;34m()\u001b[0m\n",
            "File \u001b[1;32mpandas\\_libs\\hashtable_class_helper.pxi:5745\u001b[0m, in \u001b[0;36mpandas._libs.hashtable.PyObjectHashTable.get_item\u001b[1;34m()\u001b[0m\n",
            "File \u001b[1;32mpandas\\_libs\\hashtable_class_helper.pxi:5753\u001b[0m, in \u001b[0;36mpandas._libs.hashtable.PyObjectHashTable.get_item\u001b[1;34m()\u001b[0m\n",
            "\u001b[1;31mKeyError\u001b[0m: 'label'",
            "\nThe above exception was the direct cause of the following exception:\n",
            "\u001b[1;31mKeyError\u001b[0m                                  Traceback (most recent call last)",
            "Cell \u001b[1;32mIn[31], line 9\u001b[0m\n\u001b[0;32m      6\u001b[0m \u001b[38;5;28;01mimport\u001b[39;00m \u001b[38;5;21;01mmatplotlib\u001b[39;00m\u001b[38;5;21;01m.\u001b[39;00m\u001b[38;5;21;01mpyplot\u001b[39;00m \u001b[38;5;28;01mas\u001b[39;00m \u001b[38;5;21;01mplt\u001b[39;00m\n\u001b[0;32m      8\u001b[0m X \u001b[38;5;241m=\u001b[39m modified_sortie[[\u001b[38;5;124m\"\u001b[39m\u001b[38;5;124mspeed\u001b[39m\u001b[38;5;124m\"\u001b[39m,\u001b[38;5;124m\"\u001b[39m\u001b[38;5;124mpitch\u001b[39m\u001b[38;5;124m\"\u001b[39m,\u001b[38;5;124m\"\u001b[39m\u001b[38;5;124mroll\u001b[39m\u001b[38;5;124m\"\u001b[39m, \u001b[38;5;124m\"\u001b[39m\u001b[38;5;124mpartial_heading\u001b[39m\u001b[38;5;124m\"\u001b[39m]]\n\u001b[1;32m----> 9\u001b[0m Y \u001b[38;5;241m=\u001b[39m \u001b[43mmodified_sortie\u001b[49m\u001b[43m[\u001b[49m\u001b[38;5;124;43m\"\u001b[39;49m\u001b[38;5;124;43mlabel\u001b[39;49m\u001b[38;5;124;43m\"\u001b[39;49m\u001b[43m]\u001b[49m\n\u001b[0;32m     10\u001b[0m rows,cols \u001b[38;5;241m=\u001b[39m modified_sortie\u001b[38;5;241m.\u001b[39mshape\n\u001b[0;32m     11\u001b[0m decisionStats \u001b[38;5;241m=\u001b[39m np\u001b[38;5;241m.\u001b[39mzeros((rows,\u001b[38;5;241m2\u001b[39m))\n",
            "File \u001b[1;32m~\\AppData\\Local\\Packages\\PythonSoftwareFoundation.Python.3.10_qbz5n2kfra8p0\\LocalCache\\local-packages\\Python310\\site-packages\\pandas\\core\\frame.py:3807\u001b[0m, in \u001b[0;36mDataFrame.__getitem__\u001b[1;34m(self, key)\u001b[0m\n\u001b[0;32m   3805\u001b[0m \u001b[38;5;28;01mif\u001b[39;00m \u001b[38;5;28mself\u001b[39m\u001b[38;5;241m.\u001b[39mcolumns\u001b[38;5;241m.\u001b[39mnlevels \u001b[38;5;241m>\u001b[39m \u001b[38;5;241m1\u001b[39m:\n\u001b[0;32m   3806\u001b[0m     \u001b[38;5;28;01mreturn\u001b[39;00m \u001b[38;5;28mself\u001b[39m\u001b[38;5;241m.\u001b[39m_getitem_multilevel(key)\n\u001b[1;32m-> 3807\u001b[0m indexer \u001b[38;5;241m=\u001b[39m \u001b[38;5;28;43mself\u001b[39;49m\u001b[38;5;241;43m.\u001b[39;49m\u001b[43mcolumns\u001b[49m\u001b[38;5;241;43m.\u001b[39;49m\u001b[43mget_loc\u001b[49m\u001b[43m(\u001b[49m\u001b[43mkey\u001b[49m\u001b[43m)\u001b[49m\n\u001b[0;32m   3808\u001b[0m \u001b[38;5;28;01mif\u001b[39;00m is_integer(indexer):\n\u001b[0;32m   3809\u001b[0m     indexer \u001b[38;5;241m=\u001b[39m [indexer]\n",
            "File \u001b[1;32m~\\AppData\\Local\\Packages\\PythonSoftwareFoundation.Python.3.10_qbz5n2kfra8p0\\LocalCache\\local-packages\\Python310\\site-packages\\pandas\\core\\indexes\\base.py:3804\u001b[0m, in \u001b[0;36mIndex.get_loc\u001b[1;34m(self, key, method, tolerance)\u001b[0m\n\u001b[0;32m   3802\u001b[0m     \u001b[38;5;28;01mreturn\u001b[39;00m \u001b[38;5;28mself\u001b[39m\u001b[38;5;241m.\u001b[39m_engine\u001b[38;5;241m.\u001b[39mget_loc(casted_key)\n\u001b[0;32m   3803\u001b[0m \u001b[38;5;28;01mexcept\u001b[39;00m \u001b[38;5;167;01mKeyError\u001b[39;00m \u001b[38;5;28;01mas\u001b[39;00m err:\n\u001b[1;32m-> 3804\u001b[0m     \u001b[38;5;28;01mraise\u001b[39;00m \u001b[38;5;167;01mKeyError\u001b[39;00m(key) \u001b[38;5;28;01mfrom\u001b[39;00m \u001b[38;5;21;01merr\u001b[39;00m\n\u001b[0;32m   3805\u001b[0m \u001b[38;5;28;01mexcept\u001b[39;00m \u001b[38;5;167;01mTypeError\u001b[39;00m:\n\u001b[0;32m   3806\u001b[0m     \u001b[38;5;66;03m# If we have a listlike key, _check_indexing_error will raise\u001b[39;00m\n\u001b[0;32m   3807\u001b[0m     \u001b[38;5;66;03m#  InvalidIndexError. Otherwise we fall through and re-raise\u001b[39;00m\n\u001b[0;32m   3808\u001b[0m     \u001b[38;5;66;03m#  the TypeError.\u001b[39;00m\n\u001b[0;32m   3809\u001b[0m     \u001b[38;5;28mself\u001b[39m\u001b[38;5;241m.\u001b[39m_check_indexing_error(key)\n",
            "\u001b[1;31mKeyError\u001b[0m: 'label'"
          ]
        }
      ],
      "source": [
        "#This could be changed out for something faster in the future. See:\n",
        "#https://stackoverflow.com/questions/16476924/how-can-i-iterate-over-rows-in-a-pandas-dataframe/77270285#77270285\n",
        "\n",
        "from scipy.stats import multivariate_normal\n",
        "from sklearn import metrics\n",
        "import matplotlib.pyplot as plt\n",
        "\n",
        "X = modified_sortie[[\"speed\",\"pitch\",\"roll\", \"partial_heading\"]]\n",
        "Y = modified_sortie[\"label\"]\n",
        "rows,cols = modified_sortie.shape\n",
        "decisionStats = np.zeros((rows,2))\n",
        "\n",
        "# h1: mean(X) - hyp_SLUF_mu = 0\n",
        "# h0: mean(X) - hyp_SLUF_mu != 0\n",
        "# LR = p(x | mean(x) == hyp_SLUF_mu) / p(x | mean(x) != hyp_SLUF_mu) = p(x | mean(x) == hyp_SLUF_mu) / (1 - p(x | mean(x) == hyp_SLUF_mu))\n",
        "for i in range(rows):\n",
        "  decisionStats[i,:] = np.array([multivariate_normal.pdf(X.iloc[i], mean=hyp_SLUF_mu, cov=hyp_SLUF_cov), Y.iloc[i]])\n",
        "\n",
        "#Make an ROC curve for the threshold\n",
        "fpr, tpr, thresholds = metrics.roc_curve(decisionStats[:,1], decisionStats[:,0], pos_label=1)\n",
        "auc = metrics.auc(fpr, tpr)\n",
        "print(decisionStats[900:,])\n",
        "plt.plot(decisionStats[:,0])\n",
        "plt.show()\n",
        "\n",
        "plt.plot(fpr,tpr)\n",
        "plt.title(f'ROC detecting non-SLUF auc:{round(auc,5)}')\n",
        "plt.plot([0, 1], [0, 1],'r--')\n",
        "plt.show()"
      ]
    },
    {
      "cell_type": "markdown",
      "metadata": {
        "id": "iSrPbz14QooP"
      },
      "source": [
        "# Three Methods to Examine\n",
        "\n",
        "*   Difference of Means Squential\n",
        "*   Kaulman Filter"
      ]
    },
    {
      "cell_type": "markdown",
      "metadata": {
        "id": "5IGMXQuaqx3X"
      },
      "source": [
        "Issues with current setup.\n",
        "\n",
        "Hypothesis test is picking up on the generated data/artifacts. If so, this is VERY bad. Maybe adding noise may help?\n",
        "\n",
        "The problem is not very diffucult (could be likely).\n",
        "\n",
        "I need to test some real data and see how it perfoms (i.e. make a testing set)\n",
        "\n",
        "Find a way to view sortie maneuvers over time and color in over time\n",
        "\n",
        "\n",
        "\n",
        "I need to get different SLUF (perferable long) segment. This will provide a more accurate measure of SLUF mu and Cov. Current issue stems from SLUF_generated = empirical SLUF_mu and SLUF_cov"
      ]
    }
  ],
  "metadata": {
    "colab": {
      "provenance": []
    },
    "kernelspec": {
      "display_name": "Python 3",
      "name": "python3"
    },
    "language_info": {
      "codemirror_mode": {
        "name": "ipython",
        "version": 3
      },
      "file_extension": ".py",
      "mimetype": "text/x-python",
      "name": "python",
      "nbconvert_exporter": "python",
      "pygments_lexer": "ipython3",
      "version": "3.10.11"
    }
  },
  "nbformat": 4,
  "nbformat_minor": 0
}
