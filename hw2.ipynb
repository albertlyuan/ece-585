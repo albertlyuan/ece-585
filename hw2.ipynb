{
 "cells": [
  {
   "cell_type": "markdown",
   "metadata": {},
   "source": [
    "# 1)"
   ]
  },
  {
   "cell_type": "code",
   "execution_count": 136,
   "metadata": {},
   "outputs": [],
   "source": [
    "import numpy as np\n",
    "import matplotlib.pyplot as plt\n",
    "def generate_orthogonal_signals(M, N):\n",
    "    signals = np.random.normal(size=(M, N))\n",
    "    orthogonal_signals = np.zeros((M, N))\n",
    "    \n",
    "    for i in range(M):\n",
    "        orthogonal_signals[i] = signals[i]\n",
    "        for j in range(i):\n",
    "            orthogonal_signals[i] -= np.dot(orthogonal_signals[j], signals[i]) / np.dot(orthogonal_signals[j], orthogonal_signals[j]) * orthogonal_signals[j]\n",
    "        \n",
    "        # Normalize the signal\n",
    "        orthogonal_signals[i] /= np.linalg.norm(orthogonal_signals[i])\n",
    "    \n",
    "    return orthogonal_signals\n",
    "\n",
    "def calcPdPfa(data):\n",
    "    h1s = data[data[:,1] == 1].shape[0]\n",
    "    h0s = data[data[:,1] == 0].shape[0]\n",
    "\n",
    "    currh1 = h1s\n",
    "    currh0 = h0s\n",
    "\n",
    "    pd = [1]\n",
    "    pfa = [1]\n",
    "    for i in data:\n",
    "        if i[1] == 1:\n",
    "            currh1 -= 1\n",
    "        elif i[1] == 0:\n",
    "            currh0 -= 1\n",
    "        pd.append(currh1/h1s)\n",
    "        pfa.append(currh0/h0s)\n",
    "    pd.append(0)\n",
    "    pfa.append(0)\n",
    "    return pd,pfa  \n"
   ]
  },
  {
   "cell_type": "code",
   "execution_count": 195,
   "metadata": {},
   "outputs": [
    {
     "name": "stdout",
     "output_type": "stream",
     "text": [
      "lambda 2.1292865648573183\n",
      "lambda 1.3876895967608927\n",
      "lambda 2.354548868509258\n",
      "lambda 2.1645895742159733\n",
      "lambda 1.5552919357789876\n",
      "lambda 1.9822723556666695\n",
      "lambda 1.7606273554731993\n",
      "lambda 1.5259988717619517\n",
      "lambda 4.292475436794902\n",
      "lambda 1.4905641706693935\n",
      "[[1.3876896  0.        ]\n",
      " [1.49056417 0.        ]\n",
      " [1.52599887 0.        ]\n",
      " [1.55529194 0.        ]\n",
      " [1.76062736 0.        ]\n",
      " [1.98227236 1.        ]\n",
      " [2.12928656 1.        ]\n",
      " [2.16458957 1.        ]\n",
      " [2.35454887 1.        ]\n",
      " [4.29247544 1.        ]]\n"
     ]
    },
    {
     "data": {
      "image/png": "[encoded data removed]",
      "text/plain": [
       "<Figure size 640x480 with 1 Axes>"
      ]
     },
     "metadata": {},
     "output_type": "display_data"
    }
   ],
   "source": [
    "M = [5,1,100]\n",
    "d2 = [1,2,4,16]\n",
    "E = 1\n",
    "signalDim = 10\n",
    "n = 10\n",
    "\n",
    "\n",
    "for m in M:\n",
    "    fig, ax = plt.subplots()\n",
    "    for d in d2:\n",
    "        noise_variance = E/d\n",
    "\n",
    "        m_orthogonal_signals = generate_orthogonal_signals(m, signalDim)\n",
    "        rand_m = np.random.choice(m, n//2)\n",
    "        h1 = m_orthogonal_signals[rand_m] + np.random.normal(0, noise_variance, size=(n//2, signalDim))\n",
    "        h0 = np.random.normal(0, noise_variance, size=(n//2, signalDim))\n",
    "        \n",
    "        decisionStats = np.ndarray((n,2))\n",
    "\n",
    "        for i, xi in enumerate(h1):\n",
    "            # print(\"h1 xi\",xi)\n",
    "            # print(m_orthogonal_signals.T)\n",
    "            prodSum = E/noise_variance * (xi @ m_orthogonal_signals.T)\n",
    "            # print(\"prodsum\",prodSum)\n",
    "            exp = np.exp(prodSum)\n",
    "            # print(\"exp\",exp)\n",
    "            lambdaa = (1/m) * np.sum(exp) \n",
    "            print(\"lambda\",lambdaa)\n",
    "            decisionStats[i,:] = np.array([lambdaa,1])\n",
    "\n",
    "        for i, xi in enumerate(h0):\n",
    "            # print(\"h0 xi\",xi)\n",
    "            prodSum = E/noise_variance * (xi @ m_orthogonal_signals.T)\n",
    "            # print(\"prodsum\",prodSum)\n",
    "            exp = np.exp(prodSum)\n",
    "            # print(\"exp\",exp)\n",
    "            lambdaa = (1/m) * np.sum(exp) \n",
    "            print(\"lambda\",lambdaa)\n",
    "            decisionStats[n//2+i,:] = np.array([lambdaa,0])\n",
    "        decisionStats.sort(axis=0)\n",
    "        print(decisionStats)\n",
    "        pd,pfa = calcPdPfa(decisionStats)\n",
    "        ax.plot(pfa,pd, label=f\"d^2={d}\") \n",
    "        ax.legend()\n",
    "        ax.set_title(f\"ROC 1/M orthogonal signals\")\n",
    "        break\n",
    "    ax.plot([0, 1], [0, 1],'r--')\n",
    "    plt.show()\n",
    "    break\n",
    "\n"
   ]
  },
  {
   "cell_type": "markdown",
   "metadata": {},
   "source": [
    "# 2) SKEP"
   ]
  },
  {
   "cell_type": "code",
   "execution_count": 66,
   "metadata": {},
   "outputs": [
    {
     "name": "stdout",
     "output_type": "stream",
     "text": [
      "2539.659825809511\n"
     ]
    }
   ],
   "source": [
    "d2 = [16,2,4,1]\n",
    "E = 1\n",
    "\n",
    "amp = 1\n",
    "freq = 10\n",
    "k = 100\n",
    "\n",
    "\n",
    "unknownPhase = np.random.uniform(0, 2*np.pi)\n",
    "t = np.linspace(0, 2 * np.pi, k)\n",
    "signal = amp * np.sin(freq * t + unknownPhase)\n",
    "\n",
    "\n",
    "for d in d2:\n",
    "    noise_variance = E/d\n",
    "    noise = np.random.normal(scale=np.sqrt(noise_variance))\n",
    "\n",
    "    x = signal + noise\n",
    "    \n",
    "    r2 = np.sum(x*amp*np.cos(freq * t))**2 + np.sum(x*amp*np.sin(freq * t))**2\n",
    "    print(r2)\n",
    "    break\n",
    "\n"
   ]
  },
  {
   "cell_type": "markdown",
   "metadata": {},
   "source": [
    "# 3) SKEA"
   ]
  },
  {
   "cell_type": "markdown",
   "metadata": {},
   "source": []
  }
 ],
 "metadata": {
  "kernelspec": {
   "display_name": "Python 3",
   "language": "python",
   "name": "python3"
  },
  "language_info": {
   "codemirror_mode": {
    "name": "ipython",
    "version": 3
   },
   "file_extension": ".py",
   "mimetype": "text/x-python",
   "name": "python",
   "nbconvert_exporter": "python",
   "pygments_lexer": "ipython3",
   "version": "3.10.11"
  }
 },
 "nbformat": 4,
 "nbformat_minor": 2
}
